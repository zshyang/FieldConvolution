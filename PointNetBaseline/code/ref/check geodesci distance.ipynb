{
 "cells": [
  {
   "cell_type": "code",
   "execution_count": 1,
   "metadata": {},
   "outputs": [],
   "source": [
    "import numpy as np"
   ]
  },
  {
   "cell_type": "code",
   "execution_count": 8,
   "metadata": {},
   "outputs": [
    {
     "name": "stdout",
     "output_type": "stream",
     "text": [
      "1.7774956960383441\n"
     ]
    }
   ],
   "source": [
    "path = 'data/sig17_seg_benchmark/meshes/train/adobe/dist_map/FemaleFitTeenA_tri_fixed.off_dist_map.npy'\n",
    "\n",
    "d = np.load(path)\n",
    "\n",
    "print(d.max())\n"
   ]
  },
  {
   "cell_type": "code",
   "execution_count": 4,
   "metadata": {},
   "outputs": [
    {
     "name": "stdout",
     "output_type": "stream",
     "text": [
      "1.9468080730969248\n"
     ]
    }
   ],
   "source": [
    "path = 'data/sig17_seg_benchmark/meshes/train/MIT_animation/meshes_bouncing/dist_map/mesh_0000.obj_dist_map.npy'\n",
    "\n",
    "d = np.load(path)\n",
    "\n",
    "print(d.max())\n"
   ]
  },
  {
   "cell_type": "code",
   "execution_count": 5,
   "metadata": {},
   "outputs": [
    {
     "name": "stdout",
     "output_type": "stream",
     "text": [
      "2.1014960805093477\n"
     ]
    }
   ],
   "source": [
    "path = 'data/sig17_seg_benchmark/meshes/train/scape/dist_map/mesh000.off_dist_map.npy'\n",
    "\n",
    "d = np.load(path)\n",
    "\n",
    "print(d.max())\n"
   ]
  },
  {
   "cell_type": "code",
   "execution_count": 6,
   "metadata": {},
   "outputs": [
    {
     "name": "stdout",
     "output_type": "stream",
     "text": [
      "2.0517738867561928\n"
     ]
    }
   ],
   "source": [
    "path = 'data/sig17_seg_benchmark/meshes/test/shrec/dist_map/10.off_dist_map.npy'\n",
    "\n",
    "d = np.load(path)\n",
    "\n",
    "print(d.max())\n"
   ]
  },
  {
   "cell_type": "code",
   "execution_count": 7,
   "metadata": {},
   "outputs": [
    {
     "name": "stdout",
     "output_type": "stream",
     "text": [
      "222.95235\n"
     ]
    }
   ],
   "source": [
    "path = '/orion/u/zhangsiy/georgey/Data/distance_maps/tr_reg_000.npy'\n",
    "\n",
    "d = np.load(path)\n",
    "\n",
    "print(d.max())\n"
   ]
  },
  {
   "cell_type": "code",
   "execution_count": null,
   "metadata": {},
   "outputs": [],
   "source": []
  }
 ],
 "metadata": {
  "kernelspec": {
   "display_name": "Python [conda env:tensorflow_p36] *",
   "language": "python",
   "name": "conda-env-tensorflow_p36-py"
  },
  "language_info": {
   "codemirror_mode": {
    "name": "ipython",
    "version": 3
   },
   "file_extension": ".py",
   "mimetype": "text/x-python",
   "name": "python",
   "nbconvert_exporter": "python",
   "pygments_lexer": "ipython3",
   "version": "3.6.8"
  }
 },
 "nbformat": 4,
 "nbformat_minor": 2
}
