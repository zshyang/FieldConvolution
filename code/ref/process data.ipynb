{
 "cells": [
  {
   "cell_type": "code",
   "execution_count": 1,
   "metadata": {},
   "outputs": [],
   "source": [
    "# Move the distance map to the target folder\n",
    "import glob\n",
    "import shutil\n",
    "\n",
    "\n",
    "# move the meshes\n",
    "mesh_file = glob.glob('../*.off')\n",
    "\n",
    "for f in mesh_file:\n",
    "    shutil.move(f, f[:3] + 'mesh/' + f[3:])\n"
   ]
  },
  {
   "cell_type": "code",
   "execution_count": 9,
   "metadata": {},
   "outputs": [],
   "source": [
    "# move distance map\n",
    "dist_file = glob.glob('../*.npy')\n",
    "\n",
    "for f in dist_file:\n",
    "    shutil.move(f, f[:3] + 'dist_map/' + f[3:])"
   ]
  },
  {
   "cell_type": "code",
   "execution_count": 10,
   "metadata": {},
   "outputs": [
    {
     "name": "stdout",
     "output_type": "stream",
     "text": [
      "(4706, 352)\n",
      "../shot/20.off\n",
      "../shot/5.off\n",
      "../shot/15.off\n",
      "../shot/2.off\n",
      "../shot/3.off\n",
      "../shot/13.off\n",
      "../shot/4.off\n",
      "../shot/14.off\n",
      "../shot/9.off\n",
      "../shot/19.off\n",
      "../shot/7.off\n",
      "../shot/17.off\n",
      "../shot/10.off\n",
      "../shot/12_fix_orientation.off\n",
      "../shot/1.off\n",
      "../shot/11.off\n",
      "../shot/6.off\n",
      "../shot/8.off\n"
     ]
    }
   ],
   "source": [
    "# convert shot files from mat file to npy file\n",
    "import os\n",
    "import glob\n",
    "import numpy as np\n",
    "import scipy.io as sio\n",
    "\n",
    "\n",
    "shot = sio.loadmat('../shot/1.off')\n",
    "\n",
    "print(shot['model_shot'].shape)\n",
    "\n",
    "f = glob.glob('../shot/*.off')\n",
    "\n",
    "for file in f:\n",
    "    print(file)\n",
    "    shot = sio.loadmat(file)\n",
    "    shot = shot['model_shot']\n",
    "    os.remove(file)\n",
    "    np.save(file[:-4], shot)\n"
   ]
  },
  {
   "cell_type": "code",
   "execution_count": null,
   "metadata": {},
   "outputs": [],
   "source": []
  },
  {
   "cell_type": "code",
   "execution_count": null,
   "metadata": {},
   "outputs": [],
   "source": []
  }
 ],
 "metadata": {
  "kernelspec": {
   "display_name": "Python [conda env:tensorflow_p36] *",
   "language": "python",
   "name": "conda-env-tensorflow_p36-py"
  },
  "language_info": {
   "codemirror_mode": {
    "name": "ipython",
    "version": 3
   },
   "file_extension": ".py",
   "mimetype": "text/x-python",
   "name": "python",
   "nbconvert_exporter": "python",
   "pygments_lexer": "ipython3",
   "version": "3.6.8"
  }
 },
 "nbformat": 4,
 "nbformat_minor": 2
}
